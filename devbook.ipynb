{
 "cells": [
  {
   "cell_type": "code",
   "execution_count": 4,
   "metadata": {},
   "outputs": [],
   "source": [
    "import lightgbm\n",
    "import neptune\n",
    "import pandas as pd\n",
    "\n",
    "from neptunecontrib.monitoring.utils import pickle_and_send_artifact\n",
    "from neptunecontrib.versioning.data import log_data_version\n",
    "\n",
    "# Define parameters\n",
    "PROJECT_NAME = 'neptune-ai/binary-classification-metrics'\n",
    "\n",
    "TRAIN_PATH = 'data/train.csv'\n",
    "TEST_PATH = 'data/test.csv'\n",
    "NROWS = None\n",
    "\n",
    "MODEL_PARAMS = {'random_state': 1234}\n",
    "\n",
    "# Load data\n",
    "train = pd.read_csv(TRAIN_PATH, nrows=NROWS)\n",
    "test = pd.read_csv(TEST_PATH, nrows=NROWS)\n",
    "\n",
    "feature_names = [col for col in train.columns if col not in ['TransactionID','isFraud']]\n",
    "\n",
    "X_train, y_train = train[feature_names], train['isFraud']\n",
    "X_test, y_test = test[feature_names], test['isFraud']\n",
    "\n",
    "# Start experiment\n",
    "neptune.init(PROJECT_NAME)\n",
    "neptune.create_experiment(params=MODEL_PARAMS,\n",
    "                          upload_source_files=['train.py', 'environment.yaml'])\n",
    "log_data_version(TRAIN_PATH, prefix='train_')\n",
    "log_data_version(TEST_PATH, prefix='test_')\n",
    "\n",
    "# Train model\n",
    "model = lightgbm.LGBMClassifier(**MODEL_PARAMS)\n",
    "model.fit(X_train, y_train)\n",
    "    \n",
    "# Evaluate model\n",
    "y_test_pred = model.predict_proba(X_test)\n",
    "\n",
    "log_binary_classification_metrics(y_test, y_test_pred)\n",
    "pickle_and_send_artifact((y_test, y_test_pred), 'test_preds.pkl')\n",
    "\n",
    "neptune.stop()"
   ]
  },
  {
   "cell_type": "code",
   "execution_count": null,
   "metadata": {},
   "outputs": [],
   "source": []
  }
 ],
 "metadata": {
  "kernelspec": {
   "display_name": "py_36",
   "language": "python",
   "name": "py_36"
  },
  "language_info": {
   "codemirror_mode": {
    "name": "ipython",
    "version": 3
   },
   "file_extension": ".py",
   "mimetype": "text/x-python",
   "name": "python",
   "nbconvert_exporter": "python",
   "pygments_lexer": "ipython3",
   "version": "3.6.8"
  },
  "neptune": {
   "notebookId": "efa4cba4-73c6-4d3d-959b-3125b52508bd"
  }
 },
 "nbformat": 4,
 "nbformat_minor": 2
}
